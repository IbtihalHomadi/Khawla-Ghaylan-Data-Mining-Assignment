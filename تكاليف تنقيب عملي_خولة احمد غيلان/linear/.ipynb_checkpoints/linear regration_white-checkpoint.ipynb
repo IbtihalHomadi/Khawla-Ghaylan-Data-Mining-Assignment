{
 "cells": [
  {
   "cell_type": "code",
   "execution_count": 31,
   "metadata": {},
   "outputs": [],
   "source": [
    "import pandas as pd"
   ]
  },
  {
   "cell_type": "code",
   "execution_count": 32,
   "metadata": {},
   "outputs": [],
   "source": [
    "data = pd.read_excel('school.xlsx')"
   ]
  },
  {
   "cell_type": "code",
   "execution_count": 33,
   "metadata": {},
   "outputs": [
    {
     "data": {
      "text/html": [
       "<div>\n",
       "<style scoped>\n",
       "    .dataframe tbody tr th:only-of-type {\n",
       "        vertical-align: middle;\n",
       "    }\n",
       "\n",
       "    .dataframe tbody tr th {\n",
       "        vertical-align: top;\n",
       "    }\n",
       "\n",
       "    .dataframe thead th {\n",
       "        text-align: right;\n",
       "    }\n",
       "</style>\n",
       "<table border=\"1\" class=\"dataframe\">\n",
       "  <thead>\n",
       "    <tr style=\"text-align: right;\">\n",
       "      <th></th>\n",
       "      <th>school_name</th>\n",
       "      <th>district_name</th>\n",
       "      <th>date</th>\n",
       "      <th>time</th>\n",
       "      <th>city</th>\n",
       "      <th>enrollment</th>\n",
       "      <th>casualties</th>\n",
       "      <th>white</th>\n",
       "      <th>black</th>\n",
       "    </tr>\n",
       "  </thead>\n",
       "  <tbody>\n",
       "    <tr>\n",
       "      <th>0</th>\n",
       "      <td>Columbine High School</td>\n",
       "      <td>0</td>\n",
       "      <td>1999-05-25</td>\n",
       "      <td>11:19:00</td>\n",
       "      <td>Littleton</td>\n",
       "      <td>5467</td>\n",
       "      <td>34</td>\n",
       "      <td>1783</td>\n",
       "      <td>16.0</td>\n",
       "    </tr>\n",
       "    <tr>\n",
       "      <th>1</th>\n",
       "      <td>Scotlandville Middle School</td>\n",
       "      <td>East Baton Rouge Parish School Board</td>\n",
       "      <td>1999-04-22</td>\n",
       "      <td>12:30:00</td>\n",
       "      <td>Baton Rouge</td>\n",
       "      <td>588</td>\n",
       "      <td>1</td>\n",
       "      <td>5</td>\n",
       "      <td>583.0</td>\n",
       "    </tr>\n",
       "    <tr>\n",
       "      <th>2</th>\n",
       "      <td>Heritage High School</td>\n",
       "      <td>Rockdale County</td>\n",
       "      <td>1999-05-20</td>\n",
       "      <td>08:03:00</td>\n",
       "      <td>Conyers</td>\n",
       "      <td>1369</td>\n",
       "      <td>6</td>\n",
       "      <td>1189</td>\n",
       "      <td>136.0</td>\n",
       "    </tr>\n",
       "    <tr>\n",
       "      <th>3</th>\n",
       "      <td>John Bartram High School</td>\n",
       "      <td>Philadelphia City SD</td>\n",
       "      <td>1999-10-04</td>\n",
       "      <td>10:00:00</td>\n",
       "      <td>Philadelphia</td>\n",
       "      <td>3147</td>\n",
       "      <td>1</td>\n",
       "      <td>209</td>\n",
       "      <td>2736.0</td>\n",
       "    </tr>\n",
       "    <tr>\n",
       "      <th>4</th>\n",
       "      <td>Dorchester High School</td>\n",
       "      <td>Boston</td>\n",
       "      <td>1999-11-03</td>\n",
       "      <td>07:40:00</td>\n",
       "      <td>Boston</td>\n",
       "      <td>1116</td>\n",
       "      <td>1</td>\n",
       "      <td>40</td>\n",
       "      <td>755.0</td>\n",
       "    </tr>\n",
       "    <tr>\n",
       "      <th>...</th>\n",
       "      <td>...</td>\n",
       "      <td>...</td>\n",
       "      <td>...</td>\n",
       "      <td>...</td>\n",
       "      <td>...</td>\n",
       "      <td>...</td>\n",
       "      <td>...</td>\n",
       "      <td>...</td>\n",
       "      <td>...</td>\n",
       "    </tr>\n",
       "    <tr>\n",
       "      <th>213</th>\n",
       "      <td>Seaside High School</td>\n",
       "      <td>Monterey Peninsula Unified</td>\n",
       "      <td>2018-03-13</td>\n",
       "      <td>13:20:00</td>\n",
       "      <td>Seaside</td>\n",
       "      <td>1059</td>\n",
       "      <td>3</td>\n",
       "      <td>113</td>\n",
       "      <td>79.0</td>\n",
       "    </tr>\n",
       "    <tr>\n",
       "      <th>214</th>\n",
       "      <td>Big Sky High School</td>\n",
       "      <td>Missoula H S</td>\n",
       "      <td>2018-03-16</td>\n",
       "      <td>12:45:00</td>\n",
       "      <td>Missoula</td>\n",
       "      <td>1075</td>\n",
       "      <td>0</td>\n",
       "      <td>903</td>\n",
       "      <td>17.0</td>\n",
       "    </tr>\n",
       "    <tr>\n",
       "      <th>215</th>\n",
       "      <td>Douglass Park Elementary School</td>\n",
       "      <td>Portsmouth City Pblc Schs</td>\n",
       "      <td>2018-03-19</td>\n",
       "      <td>16:23:00</td>\n",
       "      <td>Portsmouth</td>\n",
       "      <td>761</td>\n",
       "      <td>1</td>\n",
       "      <td>5</td>\n",
       "      <td>738.0</td>\n",
       "    </tr>\n",
       "    <tr>\n",
       "      <th>216</th>\n",
       "      <td>Great Mills High School</td>\n",
       "      <td>St. Mary's County Public Schools</td>\n",
       "      <td>2018-03-20</td>\n",
       "      <td>07:55:00</td>\n",
       "      <td>Great Mills</td>\n",
       "      <td>1535</td>\n",
       "      <td>2</td>\n",
       "      <td>657</td>\n",
       "      <td>577.0</td>\n",
       "    </tr>\n",
       "    <tr>\n",
       "      <th>217</th>\n",
       "      <td>Great Mills High School</td>\n",
       "      <td>St. Mary's County Public Schools</td>\n",
       "      <td>2018-03-20</td>\n",
       "      <td>07:55:00</td>\n",
       "      <td>Great Mills</td>\n",
       "      <td>1535</td>\n",
       "      <td>2</td>\n",
       "      <td>657</td>\n",
       "      <td>577.0</td>\n",
       "    </tr>\n",
       "  </tbody>\n",
       "</table>\n",
       "<p>218 rows × 9 columns</p>\n",
       "</div>"
      ],
      "text/plain": [
       "                         school_name                         district_name  \\\n",
       "0              Columbine High School                                     0   \n",
       "1        Scotlandville Middle School  East Baton Rouge Parish School Board   \n",
       "2               Heritage High School                       Rockdale County   \n",
       "3           John Bartram High School                  Philadelphia City SD   \n",
       "4             Dorchester High School                                Boston   \n",
       "..                               ...                                   ...   \n",
       "213              Seaside High School            Monterey Peninsula Unified   \n",
       "214              Big Sky High School                          Missoula H S   \n",
       "215  Douglass Park Elementary School             Portsmouth City Pblc Schs   \n",
       "216          Great Mills High School      St. Mary's County Public Schools   \n",
       "217          Great Mills High School      St. Mary's County Public Schools   \n",
       "\n",
       "          date      time          city  enrollment  casualties  white   black  \n",
       "0   1999-05-25  11:19:00     Littleton        5467          34   1783    16.0  \n",
       "1   1999-04-22  12:30:00   Baton Rouge         588           1      5   583.0  \n",
       "2   1999-05-20  08:03:00       Conyers        1369           6   1189   136.0  \n",
       "3   1999-10-04  10:00:00  Philadelphia        3147           1    209  2736.0  \n",
       "4   1999-11-03  07:40:00        Boston        1116           1     40   755.0  \n",
       "..         ...       ...           ...         ...         ...    ...     ...  \n",
       "213 2018-03-13  13:20:00       Seaside        1059           3    113    79.0  \n",
       "214 2018-03-16  12:45:00      Missoula        1075           0    903    17.0  \n",
       "215 2018-03-19  16:23:00    Portsmouth         761           1      5   738.0  \n",
       "216 2018-03-20  07:55:00   Great Mills        1535           2    657   577.0  \n",
       "217 2018-03-20  07:55:00   Great Mills        1535           2    657   577.0  \n",
       "\n",
       "[218 rows x 9 columns]"
      ]
     },
     "execution_count": 33,
     "metadata": {},
     "output_type": "execute_result"
    }
   ],
   "source": [
    "data"
   ]
  },
  {
   "cell_type": "code",
   "execution_count": 34,
   "metadata": {},
   "outputs": [],
   "source": [
    "import matplotlib.pyplot as plt\n"
   ]
  },
  {
   "cell_type": "code",
   "execution_count": 35,
   "metadata": {},
   "outputs": [
    {
     "data": {
      "text/html": [
       "<div>\n",
       "<style scoped>\n",
       "    .dataframe tbody tr th:only-of-type {\n",
       "        vertical-align: middle;\n",
       "    }\n",
       "\n",
       "    .dataframe tbody tr th {\n",
       "        vertical-align: top;\n",
       "    }\n",
       "\n",
       "    .dataframe thead th {\n",
       "        text-align: right;\n",
       "    }\n",
       "</style>\n",
       "<table border=\"1\" class=\"dataframe\">\n",
       "  <thead>\n",
       "    <tr style=\"text-align: right;\">\n",
       "      <th></th>\n",
       "      <th>enrollment</th>\n",
       "      <th>casualties</th>\n",
       "      <th>white</th>\n",
       "      <th>black</th>\n",
       "    </tr>\n",
       "  </thead>\n",
       "  <tbody>\n",
       "    <tr>\n",
       "      <th>count</th>\n",
       "      <td>218.000000</td>\n",
       "      <td>218.000000</td>\n",
       "      <td>218.000000</td>\n",
       "      <td>217.000000</td>\n",
       "    </tr>\n",
       "    <tr>\n",
       "      <th>mean</th>\n",
       "      <td>1094.211009</td>\n",
       "      <td>1.853211</td>\n",
       "      <td>403.371560</td>\n",
       "      <td>367.705069</td>\n",
       "    </tr>\n",
       "    <tr>\n",
       "      <th>std</th>\n",
       "      <td>853.089998</td>\n",
       "      <td>4.171056</td>\n",
       "      <td>505.095889</td>\n",
       "      <td>478.003521</td>\n",
       "    </tr>\n",
       "    <tr>\n",
       "      <th>min</th>\n",
       "      <td>22.000000</td>\n",
       "      <td>0.000000</td>\n",
       "      <td>0.000000</td>\n",
       "      <td>0.000000</td>\n",
       "    </tr>\n",
       "    <tr>\n",
       "      <th>25%</th>\n",
       "      <td>464.250000</td>\n",
       "      <td>1.000000</td>\n",
       "      <td>12.000000</td>\n",
       "      <td>17.000000</td>\n",
       "    </tr>\n",
       "    <tr>\n",
       "      <th>50%</th>\n",
       "      <td>906.000000</td>\n",
       "      <td>1.000000</td>\n",
       "      <td>178.000000</td>\n",
       "      <td>151.000000</td>\n",
       "    </tr>\n",
       "    <tr>\n",
       "      <th>75%</th>\n",
       "      <td>1522.250000</td>\n",
       "      <td>2.000000</td>\n",
       "      <td>651.500000</td>\n",
       "      <td>583.000000</td>\n",
       "    </tr>\n",
       "    <tr>\n",
       "      <th>max</th>\n",
       "      <td>5467.000000</td>\n",
       "      <td>34.000000</td>\n",
       "      <td>2256.000000</td>\n",
       "      <td>2736.000000</td>\n",
       "    </tr>\n",
       "  </tbody>\n",
       "</table>\n",
       "</div>"
      ],
      "text/plain": [
       "        enrollment  casualties        white        black\n",
       "count   218.000000  218.000000   218.000000   217.000000\n",
       "mean   1094.211009    1.853211   403.371560   367.705069\n",
       "std     853.089998    4.171056   505.095889   478.003521\n",
       "min      22.000000    0.000000     0.000000     0.000000\n",
       "25%     464.250000    1.000000    12.000000    17.000000\n",
       "50%     906.000000    1.000000   178.000000   151.000000\n",
       "75%    1522.250000    2.000000   651.500000   583.000000\n",
       "max    5467.000000   34.000000  2256.000000  2736.000000"
      ]
     },
     "execution_count": 35,
     "metadata": {},
     "output_type": "execute_result"
    }
   ],
   "source": [
    "x = pd.DataFrame(data, columns = [\"casualties\"])\n",
    "y = pd.DataFrame(data, columns = ['enrollment'])\n",
    "\n",
    "data.describe()"
   ]
  },
  {
   "cell_type": "code",
   "execution_count": 36,
   "metadata": {},
   "outputs": [
    {
     "data": {
      "text/plain": [
       "(0.0, 2783919000.0)"
      ]
     },
     "execution_count": 36,
     "metadata": {},
     "output_type": "execute_result"
    },
    {
     "data": {
      "image/png": "[encoded data removed]",
      "text/plain": [
       "<Figure size 432x288 with 1 Axes>"
      ]
     },
     "metadata": {
      "needs_background": "light"
     },
     "output_type": "display_data"
    }
   ],
   "source": [
    "plt.scatter(x, y, alpha = 0.3)\n",
    "\n",
    "plt.xlabel(\"casualties\")\n",
    "plt.ylabel(\"enrollment\")\n",
    "\n",
    "plt.xlim(0, 4.250000e+08)\n",
    "plt.ylim(0, 2.783919e+09)"
   ]
  },
  {
   "cell_type": "code",
   "execution_count": 37,
   "metadata": {},
   "outputs": [],
   "source": [
    "import sklearn"
   ]
  },
  {
   "cell_type": "code",
   "execution_count": 38,
   "metadata": {},
   "outputs": [],
   "source": [
    "from sklearn.linear_model import LinearRegression"
   ]
  },
  {
   "cell_type": "code",
   "execution_count": 39,
   "metadata": {},
   "outputs": [],
   "source": [
    "reg = LinearRegression()"
   ]
  },
  {
   "cell_type": "code",
   "execution_count": 40,
   "metadata": {},
   "outputs": [
    {
     "data": {
      "text/plain": [
       "LinearRegression()"
      ]
     },
     "execution_count": 40,
     "metadata": {},
     "output_type": "execute_result"
    }
   ],
   "source": [
    "reg.fit(x, y)"
   ]
  },
  {
   "cell_type": "raw",
   "metadata": {},
   "source": [
    "reg.coef_"
   ]
  },
  {
   "cell_type": "code",
   "execution_count": 41,
   "metadata": {},
   "outputs": [
    {
     "data": {
      "text/plain": [
       "array([1006.04217658])"
      ]
     },
     "execution_count": 41,
     "metadata": {},
     "output_type": "execute_result"
    }
   ],
   "source": [
    "reg.intercept_"
   ]
  },
  {
   "cell_type": "code",
   "execution_count": 42,
   "metadata": {},
   "outputs": [
    {
     "data": {
      "text/plain": [
       "(0.0, 2783919000.0)"
      ]
     },
     "execution_count": 42,
     "metadata": {},
     "output_type": "execute_result"
    },
    {
     "data": {
      "image/png": "[encoded data removed]",
      "text/plain": [
       "<Figure size 432x288 with 1 Axes>"
      ]
     },
     "metadata": {
      "needs_background": "light"
     },
     "output_type": "display_data"
    }
   ],
   "source": [
    "plt.scatter(x, y, alpha = 0.3)\n",
    "\n",
    "plt.xlabel(\"casualties\")\n",
    "plt.ylabel(\"enrollment\")\n",
    "\n",
    "plt.plot(x, reg.predict(x), color='yellow')\n",
    "\n",
    "plt.xlim(0, 4.250000e+08)\n",
    "plt.ylim(0, 2.783919e+09)"
   ]
  },
  {
   "cell_type": "code",
   "execution_count": null,
   "metadata": {},
   "outputs": [],
   "source": []
  },
  {
   "cell_type": "code",
   "execution_count": null,
   "metadata": {},
   "outputs": [],
   "source": []
  },
  {
   "cell_type": "code",
   "execution_count": null,
   "metadata": {},
   "outputs": [],
   "source": []
  }
 ],
 "metadata": {
  "kernelspec": {
   "display_name": "Python 3",
   "language": "python",
   "name": "python3"
  },
  "language_info": {
   "codemirror_mode": {
    "name": "ipython",
    "version": 3
   },
   "file_extension": ".py",
   "mimetype": "text/x-python",
   "name": "python",
   "nbconvert_exporter": "python",
   "pygments_lexer": "ipython3",
   "version": "3.8.5"
  }
 },
 "nbformat": 4,
 "nbformat_minor": 4
}
